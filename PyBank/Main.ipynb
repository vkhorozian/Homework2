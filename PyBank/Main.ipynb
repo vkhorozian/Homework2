{
 "cells": [
  {
   "cell_type": "code",
   "execution_count": 32,
   "id": "676f78e4-a6ae-4ad4-8884-eeecc915a861",
   "metadata": {},
   "outputs": [],
   "source": [
    "from pathlib import Path\n",
    "import csv"
   ]
  },
  {
   "cell_type": "code",
   "execution_count": 33,
   "id": "e0ac122e-4ebc-45d1-8d3d-cfcc4ea9173d",
   "metadata": {},
   "outputs": [],
   "source": [
    "csvpath = Path(\"./Resources/budget_data.csv\")\n",
    "\n",
    "dateList = []\n",
    "PnL_List = []\n",
    "lineNum = 0\n",
    "\n",
    "PnLTotal = 0\n",
    "avgChange = 0\n",
    "GIP = 0\n",
    "GDP = 0\n",
    "monthTotal = 0"
   ]
  },
  {
   "cell_type": "code",
   "execution_count": 34,
   "id": "2de57db5-472e-4758-8437-6a7b64521738",
   "metadata": {},
   "outputs": [
    {
     "name": "stdout",
     "output_type": "stream",
     "text": [
      "[867884, 984655, 322013, -69417, 310503]\n",
      "-----------------\n",
      "['Jan-2010', 'Feb-2010', 'Mar-2010', 'Apr-2010', 'May-2010']\n"
     ]
    }
   ],
   "source": [
    "with open(csvpath, 'r') as csvfile:\n",
    "    ##print(type(csvfile))\n",
    "    ## try to solve this all in one loop\n",
    "    csvreader = csv.reader(csvfile, delimiter=',')\n",
    "    header = next(csvreader) ##skips header\n",
    "    PnL = 0\n",
    "    \n",
    "        \n",
    "    lineNum +=1\n",
    "    ##print(f\":{header}:\") ## the library knows this 'header' command alrady \n",
    "    for row in csvreader:\n",
    "        #print(row) ##print the data in the file row by row\n",
    "        date = row[0] ## this will take the first index and set it to date\n",
    "        \n",
    "        PnL = int(row[1])\n",
    "        PnLTotal += int(row[1])\n",
    "        dateList.append(date)\n",
    "        PnL_List.append(PnL) ## this is were we took the data from the csv and created an array we can use    \n",
    "    monthTotal = len(PnL_List)\n",
    "\n",
    "print(PnL_List[:5])\n",
    "print(\"-----------------\")\n",
    "print(dateList[:5])"
   ]
  },
  {
   "cell_type": "code",
   "execution_count": 35,
   "id": "c72048c6-a7e5-437b-a026-5a34fb08cc9f",
   "metadata": {},
   "outputs": [],
   "source": [
    "## AVG CHANGE CALC\n",
    "\n",
    "changes = []\n",
    "for i in range(1, len(PnL_List)):\n",
    "    change = PnL_List[i] - PnL_List[i-1]\n",
    "    changes.append(change)\n",
    "\n",
    "##print(changes)\n",
    "#calc the avg change\n",
    "\n",
    "avgChange = sum(changes) / len(changes)\n",
    "roundedAvgChange = round(avgChange, 2)\n",
    "GIP = max(changes)\n",
    "GDP = min(changes)\n",
    "\n",
    "GIPdate = dateList[changes.index(max(changes)) + 1]\n",
    "GDPdate = dateList[changes.index(min(changes)) + 1]"
   ]
  },
  {
   "cell_type": "code",
   "execution_count": 36,
   "id": "464e2bf0-5268-4a24-8425-e09265e76a51",
   "metadata": {},
   "outputs": [
    {
     "name": "stdout",
     "output_type": "stream",
     "text": [
      "Financial Analysis\n",
      "- - - - - - - - - - - - - - - -\n",
      " Total Months: 86 \n",
      " Total: 38382578 \n",
      " Average  Change: $-2315.12 \n",
      " Greatest Increase in Profits: Feb-2012 ($1926159) \n",
      " Greatest Decrease in Profits: Sep-2013 ($-2196167)\n"
     ]
    }
   ],
   "source": [
    "## Print data\n",
    "print( \"Financial Analysis\" )\n",
    "print( \"- - - - - - - - - - - - - - - -\")\n",
    "print(f\" Total Months: {monthTotal} \")\n",
    "print(f\" Total: {PnLTotal} \")\n",
    "print(f\" Average  Change: ${roundedAvgChange} \")\n",
    "print(f\" Greatest Increase in Profits: {GIPdate} (${GIP}) \")\n",
    "print(f\" Greatest Decrease in Profits: {GDPdate} (${GDP})\")\n"
   ]
  },
  {
   "cell_type": "code",
   "execution_count": 37,
   "id": "66a341f7",
   "metadata": {},
   "outputs": [],
   "source": [
    "\n",
    "results = [\"Financial Analysis\",\n",
    "f\" Total Months: {monthTotal} \",\n",
    "f\" Total: {PnLTotal} \",\n",
    "f\" Average  Change: ${roundedAvgChange} \",\n",
    "f\" Greatest Increase in Profits: {GIPdate} (${GIP}) \",\n",
    "f\" Greatest Decrease in Profits: {GDPdate} (${GDP})\"]"
   ]
  },
  {
   "cell_type": "code",
   "execution_count": 39,
   "id": "21cd6e3d-ac85-4b49-ad5d-be51b8503da1",
   "metadata": {},
   "outputs": [],
   "source": [
    "output_path = Path(\"output.txt\")\n",
    "\n",
    "with open(output_path, \"w\") as text:\n",
    "    for a in results:\n",
    "        text.write(a + \"\\n\")"
   ]
  },
  {
   "cell_type": "code",
   "execution_count": null,
   "id": "2d262372",
   "metadata": {},
   "outputs": [],
   "source": []
  }
 ],
 "metadata": {
  "kernelspec": {
   "display_name": "Python 3 (ipykernel)",
   "language": "python",
   "name": "python3"
  },
  "language_info": {
   "codemirror_mode": {
    "name": "ipython",
    "version": 3
   },
   "file_extension": ".py",
   "mimetype": "text/x-python",
   "name": "python",
   "nbconvert_exporter": "python",
   "pygments_lexer": "ipython3",
   "version": "3.11.1"
  }
 },
 "nbformat": 4,
 "nbformat_minor": 5
}
