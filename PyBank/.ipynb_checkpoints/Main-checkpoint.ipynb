{
 "cells": [
  {
   "cell_type": "code",
   "execution_count": 1,
   "id": "676f78e4-a6ae-4ad4-8884-eeecc915a861",
   "metadata": {},
   "outputs": [],
   "source": [
    "from pathlib import Path\n",
    "import csv"
   ]
  },
  {
   "cell_type": "code",
   "execution_count": 2,
   "id": "e0ac122e-4ebc-45d1-8d3d-cfcc4ea9173d",
   "metadata": {},
   "outputs": [],
   "source": [
    "csvpath = Path(\"./Resources/budget_data.csv\")\n",
    "\n",
    "PnL_List = []\n",
    "lineNum = 0\n",
    "\n",
    "PnLTotal = 0\n",
    "avgChange = 0\n",
    "GIP = 0\n",
    "GDP = 0\n",
    "monthTotal = 0"
   ]
  },
  {
   "cell_type": "code",
   "execution_count": 4,
   "id": "2de57db5-472e-4758-8437-6a7b64521738",
   "metadata": {},
   "outputs": [
    {
     "ename": "NameError",
     "evalue": "name 'PnLItem' is not defined",
     "output_type": "error",
     "traceback": [
      "\u001b[1;31m---------------------------------------------------------------------------\u001b[0m",
      "\u001b[1;31mNameError\u001b[0m                                 Traceback (most recent call last)",
      "\u001b[1;32m~\\AppData\\Local\\Temp\\ipykernel_9692\\3059855476.py\u001b[0m in \u001b[0;36m<module>\u001b[1;34m\u001b[0m\n\u001b[0;32m     15\u001b[0m         \u001b[1;32mif\u001b[0m \u001b[0mGDP\u001b[0m \u001b[1;33m==\u001b[0m \u001b[1;36m0\u001b[0m\u001b[1;33m:\u001b[0m\u001b[1;33m\u001b[0m\u001b[1;33m\u001b[0m\u001b[0m\n\u001b[0;32m     16\u001b[0m             \u001b[0mGDP\u001b[0m \u001b[1;33m=\u001b[0m \u001b[0mPnL\u001b[0m\u001b[1;33m\u001b[0m\u001b[1;33m\u001b[0m\u001b[0m\n\u001b[1;32m---> 17\u001b[1;33m         \u001b[1;32melif\u001b[0m \u001b[0mPnLItem\u001b[0m \u001b[1;33m<\u001b[0m \u001b[0mGDP\u001b[0m\u001b[1;33m:\u001b[0m\u001b[1;33m\u001b[0m\u001b[1;33m\u001b[0m\u001b[0m\n\u001b[0m\u001b[0;32m     18\u001b[0m             \u001b[0mGDP\u001b[0m \u001b[1;33m=\u001b[0m \u001b[0mPnL\u001b[0m\u001b[1;33m\u001b[0m\u001b[1;33m\u001b[0m\u001b[0m\n\u001b[0;32m     19\u001b[0m         \u001b[1;32melif\u001b[0m \u001b[0mPnLItem\u001b[0m \u001b[1;33m>\u001b[0m \u001b[0mGIP\u001b[0m\u001b[1;33m:\u001b[0m\u001b[1;33m\u001b[0m\u001b[1;33m\u001b[0m\u001b[0m\n",
      "\u001b[1;31mNameError\u001b[0m: name 'PnLItem' is not defined"
     ]
    }
   ],
   "source": [
    "with open(csvpath, 'r') as csvfile:\n",
    "    ##print(type(csvfile))\n",
    "    ## try to solve this all in one loop\n",
    "    csvreader = csv.reader(csvfile, delimiter=',')\n",
    "    header = next(csvreader)\n",
    "    PnL = 0\n",
    "    \n",
    "    lineNum +=1\n",
    "    ##print(f\":{header}:\") ## the library knows this 'header' command alrady \n",
    "    for row in csvreader:\n",
    "        ##print(row)\n",
    "        PnL = int(row[1])\n",
    "        PnLTotal += int(row[1])\n",
    "        PnL_List.append(PnL) ## this is were we took the data from the csv and created an array we can use \n",
    "        if GDP == 0:\n",
    "            GDP = PnL\n",
    "        elif PnL < GDP:\n",
    "            GDP = PnL\n",
    "        elif PnL > GIP:\n",
    "            GIP = PnL  \n",
    "        \n",
    "        \n",
    "    monthTotal = len(PnL_List)\n",
    "    ##print(monthTotal)\n",
    "    \n",
    "    \n",
    "\n",
    "        \n",
    "## just prints a list of the number we need to add up we made it above\n",
    "##print(PnL_List)\n",
    "\n"
   ]
  },
  {
   "cell_type": "code",
   "execution_count": null,
   "id": "c72048c6-a7e5-437b-a026-5a34fb08cc9f",
   "metadata": {},
   "outputs": [],
   "source": [
    "## AVG CHANGE CALC\n",
    "\n",
    "changes = []\n",
    "for i in range(1, len(PnL_List)):\n",
    "    change = PnL_List[i] - PnL_List[i-1]\n",
    "    changes.append(change)\n",
    "    \n",
    "#calc the avg change\n",
    "\n",
    "avgChange = sum(changes) / len(changes)\n",
    "roundedAvgChange = round(avgChange, 2)"
   ]
  },
  {
   "cell_type": "code",
   "execution_count": null,
   "id": "464e2bf0-5268-4a24-8425-e09265e76a51",
   "metadata": {},
   "outputs": [],
   "source": [
    "print( \"Financial Analysis\" )\n",
    "print( \"- - - - - - - - - - - - - - - -\")\n",
    "print(f\" Total Months: {monthTotal} \")\n",
    "print(f\" Total: {PnLTotal} \")\n",
    "print(f\" Average  Change: {roundedAvgChange} \")\n",
    "print(f\" Greatest Increase in Profits: {GIP} \")\n",
    "print(f\" Greatest Decrease in Profits: {GDP} \")\n"
   ]
  },
  {
   "cell_type": "code",
   "execution_count": null,
   "id": "21cd6e3d-ac85-4b49-ad5d-be51b8503da1",
   "metadata": {},
   "outputs": [],
   "source": []
  }
 ],
 "metadata": {
  "kernelspec": {
   "display_name": "Python 3 (ipykernel)",
   "language": "python",
   "name": "python3"
  },
  "language_info": {
   "codemirror_mode": {
    "name": "ipython",
    "version": 3
   },
   "file_extension": ".py",
   "mimetype": "text/x-python",
   "name": "python",
   "nbconvert_exporter": "python",
   "pygments_lexer": "ipython3",
   "version": "3.7.13"
  }
 },
 "nbformat": 4,
 "nbformat_minor": 5
}
